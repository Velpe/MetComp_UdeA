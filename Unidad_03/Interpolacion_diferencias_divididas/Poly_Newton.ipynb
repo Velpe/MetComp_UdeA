{
 "cells": [
  {
   "cell_type": "markdown",
   "metadata": {},
   "source": [
    "# Interpolación de Newton vía diferencias divididas"
   ]
  },
  {
   "cell_type": "markdown",
   "metadata": {},
   "source": [
    "Para n+1 puntos experimentales se tiene:\n",
    "\n",
    "$$\n",
    "P_{n} = a_0 + a_1(x-x_0) + a_2(x-x_0)(x-x_1)+ ... + a_n(x-x_0)(x-x_1)...(x-x_{n-1})\n",
    "$$\n",
    "$$\n",
    "P_{n} = f[x_0] + \\sum_{i=1}^{n} f[x_0,x_1,...,x_i] \\prod_{j=0}^{i-1} (x-x_j)\n",
    "$$"
   ]
  },
  {
   "cell_type": "markdown",
   "metadata": {},
   "source": [
    "#                                          DIFERENCIAS DIVIDIDAS\n",
    "\n",
    "$$\n",
    "f[x_{i},x_{j}]= \\frac{y_{j}-y_{i}}{x_{j}-x_{i}}\n",
    "$$"
   ]
  },
  {
   "cell_type": "markdown",
   "metadata": {},
   "source": [
    "# ERROR DE LA INTERPOLACIÓN\n",
    "\n",
    "$$\n",
    "R_{n}(x)=f[x,x_{0},x_{1},...,x_{n}](x-x_{0})(x-x_{1})...(x-x_{n})\n",
    "$$\n",
    "\n",
    "$$\n",
    "R_{n}(x)= \\frac{f^{n+1}(\\xi)}{(n+1)!} \\prod_{i=0}^{n} (x-x_{i})\n",
    "$$"
   ]
  },
  {
   "cell_type": "code",
   "execution_count": 76,
   "metadata": {},
   "outputs": [],
   "source": [
    "import numpy as np\n",
    "import matplotlib.pyplot as plt"
   ]
  },
  {
   "cell_type": "code",
   "execution_count": 124,
   "metadata": {},
   "outputs": [],
   "source": [
    "x_list=[2,5,7,10,12,15]\n",
    "y_list=[10,13,17,22,30,35]\n",
    "\n",
    "F=np.zeros((len(x_list),len(x_list)))\n",
    "F[0][0]=y_list[0]\n",
    "F[1][0]=y_list[1]\n",
    "F[2][0]=y_list[2]\n",
    "F[3][0]=y_list[3]\n",
    "F[4][0]=y_list[4]\n",
    "for i in range(0,len(x_list)):\n",
    "    for j in range(1,i+1):\n",
    "        F[i][j]=(F[i][j-1] - F[i-1][j-1])/(x_list[i] - x_list[i-j])\n",
    "        "
   ]
  },
  {
   "cell_type": "code",
   "execution_count": 125,
   "metadata": {},
   "outputs": [
    {
     "data": {
      "text/plain": [
       "array([[ 1.00000000e+01,  0.00000000e+00,  0.00000000e+00,\n",
       "         0.00000000e+00,  0.00000000e+00,  0.00000000e+00],\n",
       "       [ 1.30000000e+01,  1.00000000e+00,  0.00000000e+00,\n",
       "         0.00000000e+00,  0.00000000e+00,  0.00000000e+00],\n",
       "       [ 1.70000000e+01,  2.00000000e+00,  2.00000000e-01,\n",
       "         0.00000000e+00,  0.00000000e+00,  0.00000000e+00],\n",
       "       [ 2.20000000e+01,  1.66666667e+00, -6.66666667e-02,\n",
       "        -3.33333333e-02,  0.00000000e+00,  0.00000000e+00],\n",
       "       [ 3.00000000e+01,  4.00000000e+00,  4.66666667e-01,\n",
       "         7.61904762e-02,  1.09523810e-02,  0.00000000e+00],\n",
       "       [ 0.00000000e+00, -1.00000000e+01, -2.80000000e+00,\n",
       "        -4.08333333e-01, -4.84523810e-02, -4.56959707e-03]])"
      ]
     },
     "execution_count": 125,
     "metadata": {},
     "output_type": "execute_result"
    }
   ],
   "source": [
    "F"
   ]
  },
  {
   "cell_type": "code",
   "execution_count": 126,
   "metadata": {},
   "outputs": [],
   "source": [
    "def IntNewton(x_list,y_list,x):\n",
    "    suma=y_list[0]\n",
    "    for k in range(1,len(x_list)):\n",
    "        prod=1\n",
    "        for l in range(0,k):\n",
    "            prod=prod*(x-x_list[l])\n",
    "        suma=suma + F[k][k]*prod\n",
    "    return(suma)"
   ]
  },
  {
   "cell_type": "code",
   "execution_count": 127,
   "metadata": {},
   "outputs": [
    {
     "data": {
      "text/plain": [
       "17.996743909615386"
      ]
     },
     "execution_count": 127,
     "metadata": {},
     "output_type": "execute_result"
    }
   ],
   "source": [
    "IntNewton(x_list,y_list,1.3)"
   ]
  },
  {
   "cell_type": "code",
   "execution_count": 128,
   "metadata": {},
   "outputs": [],
   "source": [
    "x_array=np.linspace(min(x_list),max(x_list),100)\n",
    "y_array2=[]"
   ]
  },
  {
   "cell_type": "code",
   "execution_count": 129,
   "metadata": {},
   "outputs": [],
   "source": [
    "for n in range(0,len(x_array)):\n",
    "    y_array2.append(IntNewton(x_list,y_list,x_array[n]))"
   ]
  },
  {
   "cell_type": "code",
   "execution_count": 130,
   "metadata": {},
   "outputs": [
    {
     "name": "stdout",
     "output_type": "stream",
     "text": [
      "100\n",
      "100\n"
     ]
    }
   ],
   "source": [
    "print(len(x_array))\n",
    "#print(len(y_array))\n",
    "#print(y_array)\n",
    "print(len(y_array2))"
   ]
  },
  {
   "cell_type": "code",
   "execution_count": 132,
   "metadata": {},
   "outputs": [
    {
     "data": {
      "image/png": "[encoded data removed]",
      "text/plain": [
       "<Figure size 432x288 with 1 Axes>"
      ]
     },
     "metadata": {},
     "output_type": "display_data"
    }
   ],
   "source": [
    "plt.plot(x_array,y_array2)\n",
    "plt.plot(x_list,y_list,\"*\")\n",
    "plt.show()"
   ]
  },
  {
   "cell_type": "code",
   "execution_count": null,
   "metadata": {},
   "outputs": [],
   "source": []
  }
 ],
 "metadata": {
  "kernelspec": {
   "display_name": "Python 3",
   "language": "python",
   "name": "python3"
  },
  "language_info": {
   "codemirror_mode": {
    "name": "ipython",
    "version": 3
   },
   "file_extension": ".py",
   "mimetype": "text/x-python",
   "name": "python",
   "nbconvert_exporter": "python",
   "pygments_lexer": "ipython3",
   "version": "3.6.5"
  }
 },
 "nbformat": 4,
 "nbformat_minor": 2
}
