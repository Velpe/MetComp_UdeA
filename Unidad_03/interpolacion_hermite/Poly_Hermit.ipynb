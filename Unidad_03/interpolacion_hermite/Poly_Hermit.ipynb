{
 "cells": [
  {
   "cell_type": "markdown",
   "metadata": {},
   "source": [
    "# Interpolación de Hermite"
   ]
  },
  {
   "cell_type": "markdown",
   "metadata": {},
   "source": [
    "\n",
    "Se define $$Z_{2i}=Z_{2i+1}=X_{i}\n",
    "$$\n",
    "\n",
    "$$\n",
    "P_{2n+1}(x)=H_{2n+1}(x)=f[z_{0}]+ \\sum_{i=1}^{2n+1} f[z_{0},z_{1},...,z_{i}] \\prod_{j=0}^{i-1}(x-z_{j})\n",
    "$$\n",
    "\n",
    "$$\n",
    "f[x_{j},x_{j}]=y_{j}^{'}\n",
    "$$"
   ]
  },
  {
   "cell_type": "code",
   "execution_count": 1,
   "metadata": {},
   "outputs": [],
   "source": [
    "import numpy as np\n",
    "import matplotlib.pyplot as plt"
   ]
  },
  {
   "cell_type": "code",
   "execution_count": 8,
   "metadata": {},
   "outputs": [],
   "source": [
    "x_list=[1.3,1.6,1.9]\n",
    "y_list=[0.6200860,0.4554022,0.2818186]\n",
    "dydx_list=[-0.5220232,-0.5698959,-0.5811571]\n"
   ]
  },
  {
   "cell_type": "code",
   "execution_count": 17,
   "metadata": {},
   "outputs": [
    {
     "name": "stdout",
     "output_type": "stream",
     "text": [
      "[[ 0.620086    0.          0.          0.          0.          0.        ]\n",
      " [ 0.620086   -0.5220232   0.          0.          0.          0.        ]\n",
      " [ 0.4554022  -0.548946   -0.08974267  0.          0.          0.        ]\n",
      " [ 0.4554022  -0.5698959  -0.069833    0.06636556  0.          0.        ]\n",
      " [ 0.2818186  -0.578612   -0.02905367  0.06796556  0.00266667  0.        ]\n",
      " [ 0.2818186  -0.5811571  -0.00848367  0.06856667  0.00100185 -0.00277469]]\n"
     ]
    }
   ],
   "source": [
    "z=np.zeros(2*len(x_list))\n",
    "Q=np.zeros((2*len(x_list),2*len(x_list)))\n",
    "for i in range(0,len(x_list)):\n",
    "    z[2*i]=z[2*i+1]=x_list[i]\n",
    "    Q[2*i][0]=y_list[i]\n",
    "    Q[2*i+1][0]=y_list[i]\n",
    "    Q[2*i+1][1]=dydx_list[i]\n",
    "    if i!=0:\n",
    "        Q[2*i][1]=(Q[2*i-1][0]-Q[2*i][0])/(z[2*i-1]-z[2*i])\n",
    "for i in range(2,2*len(x_list)):\n",
    "    for j in range(2,i+1):\n",
    "        Q[i][j]=(Q[i][j-1] - Q[i-1][j-1])/(z[i]-z[i-j])\n",
    "        "
   ]
  },
  {
   "cell_type": "code",
   "execution_count": null,
   "metadata": {},
   "outputs": [],
   "source": []
  }
 ],
 "metadata": {
  "kernelspec": {
   "display_name": "Python 3",
   "language": "python",
   "name": "python3"
  },
  "language_info": {
   "codemirror_mode": {
    "name": "ipython",
    "version": 3
   },
   "file_extension": ".py",
   "mimetype": "text/x-python",
   "name": "python",
   "nbconvert_exporter": "python",
   "pygments_lexer": "ipython3",
   "version": "3.6.5"
  }
 },
 "nbformat": 4,
 "nbformat_minor": 2
}
